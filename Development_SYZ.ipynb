{
  "nbformat": 4,
  "nbformat_minor": 0,
  "metadata": {
    "colab": {
      "provenance": []
    },
    "kernelspec": {
      "name": "python3",
      "display_name": "Python 3"
    },
    "language_info": {
      "name": "python"
    }
  },
  "cells": [
    {
      "cell_type": "code",
      "execution_count": null,
      "metadata": {
        "colab": {
          "base_uri": "https://localhost:8080/"
        },
        "id": "Ya9uXkepA9cd",
        "outputId": "3a95d3e3-cc20-485d-bf02-70ccba51bd83"
      },
      "outputs": [
        {
          "output_type": "stream",
          "name": "stdout",
          "text": [
            "Collecting pydicom\n",
            "  Downloading pydicom-2.4.4-py3-none-any.whl (1.8 MB)\n",
            "\u001b[2K     \u001b[90m━━━━━━━━━━━━━━━━━━━━━━━━━━━━━━━━━━━━━━━━\u001b[0m \u001b[32m1.8/1.8 MB\u001b[0m \u001b[31m6.0 MB/s\u001b[0m eta \u001b[36m0:00:00\u001b[0m\n",
            "\u001b[?25hInstalling collected packages: pydicom\n",
            "Successfully installed pydicom-2.4.4\n",
            "Requirement already satisfied: pillow in /usr/local/lib/python3.10/dist-packages (9.4.0)\n",
            "Requirement already satisfied: tensorflow in /usr/local/lib/python3.10/dist-packages (2.15.0)\n",
            "Requirement already satisfied: absl-py>=1.0.0 in /usr/local/lib/python3.10/dist-packages (from tensorflow) (1.4.0)\n",
            "Requirement already satisfied: astunparse>=1.6.0 in /usr/local/lib/python3.10/dist-packages (from tensorflow) (1.6.3)\n",
            "Requirement already satisfied: flatbuffers>=23.5.26 in /usr/local/lib/python3.10/dist-packages (from tensorflow) (24.3.25)\n",
            "Requirement already satisfied: gast!=0.5.0,!=0.5.1,!=0.5.2,>=0.2.1 in /usr/local/lib/python3.10/dist-packages (from tensorflow) (0.5.4)\n",
            "Requirement already satisfied: google-pasta>=0.1.1 in /usr/local/lib/python3.10/dist-packages (from tensorflow) (0.2.0)\n",
            "Requirement already satisfied: h5py>=2.9.0 in /usr/local/lib/python3.10/dist-packages (from tensorflow) (3.9.0)\n",
            "Requirement already satisfied: libclang>=13.0.0 in /usr/local/lib/python3.10/dist-packages (from tensorflow) (18.1.1)\n",
            "Requirement already satisfied: ml-dtypes~=0.2.0 in /usr/local/lib/python3.10/dist-packages (from tensorflow) (0.2.0)\n",
            "Requirement already satisfied: numpy<2.0.0,>=1.23.5 in /usr/local/lib/python3.10/dist-packages (from tensorflow) (1.25.2)\n",
            "Requirement already satisfied: opt-einsum>=2.3.2 in /usr/local/lib/python3.10/dist-packages (from tensorflow) (3.3.0)\n",
            "Requirement already satisfied: packaging in /usr/local/lib/python3.10/dist-packages (from tensorflow) (24.1)\n",
            "Requirement already satisfied: protobuf!=4.21.0,!=4.21.1,!=4.21.2,!=4.21.3,!=4.21.4,!=4.21.5,<5.0.0dev,>=3.20.3 in /usr/local/lib/python3.10/dist-packages (from tensorflow) (3.20.3)\n",
            "Requirement already satisfied: setuptools in /usr/local/lib/python3.10/dist-packages (from tensorflow) (67.7.2)\n",
            "Requirement already satisfied: six>=1.12.0 in /usr/local/lib/python3.10/dist-packages (from tensorflow) (1.16.0)\n",
            "Requirement already satisfied: termcolor>=1.1.0 in /usr/local/lib/python3.10/dist-packages (from tensorflow) (2.4.0)\n",
            "Requirement already satisfied: typing-extensions>=3.6.6 in /usr/local/lib/python3.10/dist-packages (from tensorflow) (4.12.2)\n",
            "Requirement already satisfied: wrapt<1.15,>=1.11.0 in /usr/local/lib/python3.10/dist-packages (from tensorflow) (1.14.1)\n",
            "Requirement already satisfied: tensorflow-io-gcs-filesystem>=0.23.1 in /usr/local/lib/python3.10/dist-packages (from tensorflow) (0.37.0)\n",
            "Requirement already satisfied: grpcio<2.0,>=1.24.3 in /usr/local/lib/python3.10/dist-packages (from tensorflow) (1.64.1)\n",
            "Requirement already satisfied: tensorboard<2.16,>=2.15 in /usr/local/lib/python3.10/dist-packages (from tensorflow) (2.15.2)\n",
            "Requirement already satisfied: tensorflow-estimator<2.16,>=2.15.0 in /usr/local/lib/python3.10/dist-packages (from tensorflow) (2.15.0)\n",
            "Requirement already satisfied: keras<2.16,>=2.15.0 in /usr/local/lib/python3.10/dist-packages (from tensorflow) (2.15.0)\n",
            "Requirement already satisfied: wheel<1.0,>=0.23.0 in /usr/local/lib/python3.10/dist-packages (from astunparse>=1.6.0->tensorflow) (0.43.0)\n",
            "Requirement already satisfied: google-auth<3,>=1.6.3 in /usr/local/lib/python3.10/dist-packages (from tensorboard<2.16,>=2.15->tensorflow) (2.27.0)\n",
            "Requirement already satisfied: google-auth-oauthlib<2,>=0.5 in /usr/local/lib/python3.10/dist-packages (from tensorboard<2.16,>=2.15->tensorflow) (1.2.0)\n",
            "Requirement already satisfied: markdown>=2.6.8 in /usr/local/lib/python3.10/dist-packages (from tensorboard<2.16,>=2.15->tensorflow) (3.6)\n",
            "Requirement already satisfied: requests<3,>=2.21.0 in /usr/local/lib/python3.10/dist-packages (from tensorboard<2.16,>=2.15->tensorflow) (2.31.0)\n",
            "Requirement already satisfied: tensorboard-data-server<0.8.0,>=0.7.0 in /usr/local/lib/python3.10/dist-packages (from tensorboard<2.16,>=2.15->tensorflow) (0.7.2)\n",
            "Requirement already satisfied: werkzeug>=1.0.1 in /usr/local/lib/python3.10/dist-packages (from tensorboard<2.16,>=2.15->tensorflow) (3.0.3)\n",
            "Requirement already satisfied: cachetools<6.0,>=2.0.0 in /usr/local/lib/python3.10/dist-packages (from google-auth<3,>=1.6.3->tensorboard<2.16,>=2.15->tensorflow) (5.3.3)\n",
            "Requirement already satisfied: pyasn1-modules>=0.2.1 in /usr/local/lib/python3.10/dist-packages (from google-auth<3,>=1.6.3->tensorboard<2.16,>=2.15->tensorflow) (0.4.0)\n",
            "Requirement already satisfied: rsa<5,>=3.1.4 in /usr/local/lib/python3.10/dist-packages (from google-auth<3,>=1.6.3->tensorboard<2.16,>=2.15->tensorflow) (4.9)\n",
            "Requirement already satisfied: requests-oauthlib>=0.7.0 in /usr/local/lib/python3.10/dist-packages (from google-auth-oauthlib<2,>=0.5->tensorboard<2.16,>=2.15->tensorflow) (1.3.1)\n",
            "Requirement already satisfied: charset-normalizer<4,>=2 in /usr/local/lib/python3.10/dist-packages (from requests<3,>=2.21.0->tensorboard<2.16,>=2.15->tensorflow) (3.3.2)\n",
            "Requirement already satisfied: idna<4,>=2.5 in /usr/local/lib/python3.10/dist-packages (from requests<3,>=2.21.0->tensorboard<2.16,>=2.15->tensorflow) (3.7)\n",
            "Requirement already satisfied: urllib3<3,>=1.21.1 in /usr/local/lib/python3.10/dist-packages (from requests<3,>=2.21.0->tensorboard<2.16,>=2.15->tensorflow) (2.0.7)\n",
            "Requirement already satisfied: certifi>=2017.4.17 in /usr/local/lib/python3.10/dist-packages (from requests<3,>=2.21.0->tensorboard<2.16,>=2.15->tensorflow) (2024.6.2)\n",
            "Requirement already satisfied: MarkupSafe>=2.1.1 in /usr/local/lib/python3.10/dist-packages (from werkzeug>=1.0.1->tensorboard<2.16,>=2.15->tensorflow) (2.1.5)\n",
            "Requirement already satisfied: pyasn1<0.7.0,>=0.4.6 in /usr/local/lib/python3.10/dist-packages (from pyasn1-modules>=0.2.1->google-auth<3,>=1.6.3->tensorboard<2.16,>=2.15->tensorflow) (0.6.0)\n",
            "Requirement already satisfied: oauthlib>=3.0.0 in /usr/local/lib/python3.10/dist-packages (from requests-oauthlib>=0.7.0->google-auth-oauthlib<2,>=0.5->tensorboard<2.16,>=2.15->tensorflow) (3.2.2)\n",
            "Requirement already satisfied: scikit-learn in /usr/local/lib/python3.10/dist-packages (1.2.2)\n",
            "Requirement already satisfied: numpy>=1.17.3 in /usr/local/lib/python3.10/dist-packages (from scikit-learn) (1.25.2)\n",
            "Requirement already satisfied: scipy>=1.3.2 in /usr/local/lib/python3.10/dist-packages (from scikit-learn) (1.11.4)\n",
            "Requirement already satisfied: joblib>=1.1.1 in /usr/local/lib/python3.10/dist-packages (from scikit-learn) (1.4.2)\n",
            "Requirement already satisfied: threadpoolctl>=2.0.0 in /usr/local/lib/python3.10/dist-packages (from scikit-learn) (3.5.0)\n"
          ]
        }
      ],
      "source": [
        "#Kütüphane\n",
        "!pip install pydicom\n",
        "!pip install pillow\n",
        "!pip install tensorflow\n",
        "!pip install scikit-learn\n",
        "!pip install opencv-python-headless"
      ]
    },
    {
      "cell_type": "code",
      "source": [
        "import os\n",
        "\n",
        "data_dir = '/content/drive/MyDrive/Tekno/denemeler'\n",
        "\n",
        "# Ana dizin içeriğini kontrol et\n",
        "print(\"Ana dizin içeriği:\")\n",
        "print(os.listdir(data_dir))\n",
        "\n",
        "# Sınıf klasörlerinin içeriğini kontrol et\n",
        "for class_name in ['normal', 'kitle', 'kalsifikasyon']:\n",
        "    class_dir = os.path.join(data_dir, class_name)\n",
        "    print(f\"{class_name} klasörü içeriği:\")\n",
        "    if os.path.exists(class_dir):\n",
        "        print(os.listdir(class_dir))\n",
        "    else:\n",
        "        print(f\"{class_name} klasörü bulunamadı.\")\n"
      ],
      "metadata": {
        "colab": {
          "base_uri": "https://localhost:8080/"
        },
        "id": "XhZRunqrEf7H",
        "outputId": "988e9ccc-98a9-4d9c-ef2a-3c9b47fa0c7e"
      },
      "execution_count": null,
      "outputs": [
        {
          "output_type": "stream",
          "name": "stdout",
          "text": [
            "Ana dizin içeriği:\n",
            "['.ipynb_checkpoints', '11637', '12443', '11374', '12539', '12614', '12682', '12321', '12369', '12411', '12012', '12065', '12137', '11824', '11866', '11894', '11779', '11718', '11372', '11403', '11436', '11078', '11121', '11180', '10082', '10144', '10210', '10267', 'normal', 'LMLO.png', 'LCC.png', 'umarımsonolur']\n",
            "normal klasörü içeriği:\n",
            "['LCC.png', 'LMLO.png']\n",
            "kitle klasörü içeriği:\n",
            "kitle klasörü bulunamadı.\n",
            "kalsifikasyon klasörü içeriği:\n",
            "kalsifikasyon klasörü bulunamadı.\n"
          ]
        }
      ]
    },
    {
      "cell_type": "code",
      "source": [
        "from google.colab import drive\n",
        "drive.mount('/content/drive')"
      ],
      "metadata": {
        "colab": {
          "base_uri": "https://localhost:8080/"
        },
        "id": "WgcSLM1vSqMw",
        "outputId": "34a7ccc4-3253-4365-8481-f4b3c94bc9ae"
      },
      "execution_count": null,
      "outputs": [
        {
          "output_type": "stream",
          "name": "stdout",
          "text": [
            "Mounted at /content/drive\n"
          ]
        }
      ]
    },
    {
      "cell_type": "code",
      "source": [
        "# Çalışan KOD\n",
        "import os\n",
        "import pydicom\n",
        "import numpy as np\n",
        "import cv2\n",
        "from PIL import Image, ImageDraw, ImageFont\n",
        "import tensorflow as tf\n",
        "import csv\n",
        "\n",
        "labels = {}\n",
        "\n",
        "label_coordinates = []\n",
        "\n",
        "# DICOM dosyalarının bulunduğu klasör\n",
        "dcm_folder = '/content/drive/MyDrive/Teknofest-2024/Kategori5Sag/12431'\n",
        "\n",
        "kategori = 'Kategori5'\n",
        "kategorinum = '12431'\n",
        "\n",
        "# Çıktı dosyalarının kaydedileceği klasör\n",
        "output_folder = '/content/drive/MyDrive/Tekno/denemeler/umarımsonolur/12431'\n",
        "os.makedirs(output_folder, exist_ok=True)\n",
        "\n",
        "# Modeli yükleyin (bu modeli kendiniz eğitmeniz veya önceden eğitilmiş bir model kullanmanız gerekebilir)\n",
        "model_path = '/content/drive/MyDrive/Tekno/11.06-derleme.h5'\n",
        "model = tf.keras.models.load_model(model_path)\n",
        "\n",
        "# Görüntü ve etiketler listesi\n",
        "images_with_labels = []\n",
        "\n",
        "# DICOM dosyalarını oku ve tahmin et\n",
        "for root, dirs, files in os.walk(dcm_folder):\n",
        "    for file_name in files:\n",
        "        if file_name.endswith('.dcm'):\n",
        "            file_path = os.path.join(root, file_name)\n",
        "            dicom_data = pydicom.dcmread(file_path)\n",
        "\n",
        "            # DICOM verilerini numpy array olarak al\n",
        "            image_array = dicom_data.pixel_array\n",
        "\n",
        "            # Görüntüyü normalize et ve yeniden boyutlandır\n",
        "            image_array = image_array.astype(float)\n",
        "            image_array = (np.maximum(image_array, 0) / image_array.max()) * 255.0\n",
        "            image_array = np.uint8(image_array)\n",
        "\n",
        "            # Görüntüyü RGB formata dönüştür\n",
        "            input_image_rgb = cv2.cvtColor(image_array, cv2.COLOR_BGR2RGB)\n",
        "\n",
        "            # Görüntüyü modelin beklediği boyutlara yeniden boyutlandır\n",
        "            input_image_resized = cv2.resize(input_image_rgb, (224, 224))\n",
        "            input_image_resized = np.expand_dims(input_image_resized, axis=0)  # Batch boyutu ekleyin\n",
        "\n",
        "            # Modeli kullanarak tahmin yap\n",
        "            prediction = model.predict(input_image_resized)\n",
        "            label_index = np.argmax(prediction, axis=1)[0]\n",
        "\n",
        "            # Etiketleri belirle\n",
        "            if label_index == 0:\n",
        "                label = 'Normal'\n",
        "            elif label_index == 1:\n",
        "                label = 'Kitle'\n",
        "            elif label_index == 2:\n",
        "                label = 'Kalsifikasyon'\n",
        "            else:\n",
        "                label = 'Bulunamadı'\n",
        "\n",
        "            # PNG olarak kaydet\n",
        "            label_folder = os.path.join(output_folder, label)\n",
        "            os.makedirs(label_folder, exist_ok=True)\n",
        "            output_file_path = os.path.join(label_folder, file_name.replace('.dcm', '.png'))\n",
        "            Image.fromarray(image_array).save(output_file_path)\n",
        "\n",
        "            # Görüntüyü ve etiketi listeye ekle\n",
        "            images_with_labels.append((output_file_path, label))\n",
        "\n",
        "print(f\"Toplam {len(images_with_labels)} dosya işlendi ve etiketlendi.\")\n",
        "\n",
        "# Görüntüler ve etiketler listesini yazdır\n",
        "for image_path, label in images_with_labels:\n",
        "  print(f\"Görüntü: {image_path}, Etiket: {label}\")\n",
        "\n",
        "# Görüntüler ve etiketler listesini işleyin ve etiketli görüntüleri kaydedin\n",
        "for image_path, label in images_with_labels:\n",
        "    image = cv2.imread(image_path)\n",
        "\n",
        "    # Sınırlayıcı kutuyu çizin\n",
        "    if label != 'Bulunamadı':\n",
        "        font = cv2.FONT_HERSHEY_SIMPLEX\n",
        "        fontScale = 1.50\n",
        "        fontColor = (48, 48, 48)\n",
        "        lineType = 2\n",
        "        thickness = 2\n",
        "        #print(label)\n",
        "\n",
        "        # Sınırlayıcı kutunun koordinatlarını alın\n",
        "        # Etiketin görüntüye eklenmesi\n",
        "        bottomLeftCornerOfText = (10, 50)\n",
        "        contours, _ = cv2.findContours(cv2.cvtColor(image, cv2.COLOR_BGR2GRAY), cv2.RETR_EXTERNAL, cv2.CHAIN_APPROX_SIMPLE)\n",
        "        for contour in contours:\n",
        "            x, y, w, h = cv2.boundingRect(contour)\n",
        "            #cv2.rectangle(image, (x, y), (x + w, y + h), (48, 255, 48), thickness)\n",
        "            cv2.putText(image, label, bottomLeftCornerOfText, font, fontScale, fontColor, lineType)\n",
        "            coordinate_string = f\"{x},{y};{x},{y + h};{x + w},{y + h};{x + w},{y}\"\n",
        "            label_coordinates.append((file_name, label, coordinate_string))\n",
        "\n",
        "    # Etiketlenmiş görüntüyü kaydedin\n",
        "    output_file_path = os.path.join(output_folder, os.path.basename(image_path))\n",
        "    cv2.imwrite(output_file_path, image)\n",
        "\n",
        "    labels[file_name] = label\n",
        "\n",
        "    # Etiketlenmiş görüntüyü kaydet\n",
        "    output_labeled_path = os.path.join(output_folder, f\"labeled_{os.path.basename(image_path)}\")\n",
        "    cv2.imwrite(output_labeled_path, image)\n",
        "\n",
        "    # Modeli kullanarak tahmin yap\n",
        "    prediction = model.predict(input_image_resized)[0]\n",
        "\n",
        "    item = label_coordinates\n",
        "csv_file_path = '/content/drive/MyDrive/Tekno/labels.csv'\n",
        "file_exists = os.path.isfile(csv_file_path)\n",
        "\n",
        "with open(csv_file_path, 'a', newline='', encoding='utf-8') as csvfile:  # 'a' modunda açarak dosyaya ekleme yapıyoruz\n",
        "    csvwriter = csv.writer(csvfile)\n",
        "    if not file_exists:\n",
        "        csvwriter.writerow([\"KATEGORİ\", \"HASTA ID\", \"DOSYA ADI\", \"ETİKET ADI\", \"ETİKET KOORDİNATLARI\"])  # Başlıkları yaz\n",
        "    for item in label_coordinates:\n",
        "        for file_name, label in labels.items():\n",
        "          print(\"Konum Değeleri: \" + item[2])  # Değerleri görmek için\n",
        "    csvwriter.writerow([kategori, kategorinum, file_name, label, item[2]])\n",
        "\n",
        "print(f\"Toplam {len(labels)} dosya işlendi ve etiketlendi.\")"
      ],
      "metadata": {
        "colab": {
          "base_uri": "https://localhost:8080/"
        },
        "id": "QJeoCj8vbC6y",
        "outputId": "a6211c57-8bef-4a21-f451-784cb60b66bb"
      },
      "execution_count": null,
      "outputs": [
        {
          "output_type": "stream",
          "name": "stdout",
          "text": [
            "1/1 [==============================] - 1s 569ms/step\n",
            "1/1 [==============================] - 0s 158ms/step\n",
            "Toplam 2 dosya işlendi ve etiketlendi.\n",
            "Görüntü: /content/drive/MyDrive/Tekno/denemeler/umarımsonolur/12431/Kitle/RCC.png, Etiket: Kitle\n",
            "Görüntü: /content/drive/MyDrive/Tekno/denemeler/umarımsonolur/12431/Kitle/RMLO.png, Etiket: Kitle\n",
            "1/1 [==============================] - 0s 104ms/step\n",
            "1/1 [==============================] - 0s 221ms/step\n",
            "Konum Değeleri: 0,0;0,2964;2364,2964;2364,0\n",
            "Konum Değeleri: 0,0;0,2964;2364,2964;2364,0\n",
            "Toplam 1 dosya işlendi ve etiketlendi.\n"
          ]
        }
      ]
    }
  ]
}